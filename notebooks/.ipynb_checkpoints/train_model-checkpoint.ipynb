{
 "cells": [
  {
   "cell_type": "code",
   "execution_count": null,
   "id": "8e00064f",
   "metadata": {
    "vscode": {
     "languageId": "plaintext"
    }
   },
   "outputs": [],
   "source": [
    "import psycopg2\n",
    "import pandas as pd\n",
    "from sklearn.feature_extraction.text import TfidfVectorizer\n",
    "from sklearn.linear_model import LogisticRegression\n",
    "from sklearn.model_selection import train_test_split\n",
    "from sklearn.metrics import classification_report\n",
    "import joblib"
   ]
  },
  {
   "cell_type": "code",
   "execution_count": null,
   "id": "4a10b0b0",
   "metadata": {
    "vscode": {
     "languageId": "plaintext"
    }
   },
   "outputs": [],
   "source": [
    "conn = psycopg2.connect(\n",
    "    dbname=\"fakenews\",\n",
    "    user=\"postgres\",\n",
    "    password=\"123\",\n",
    "    host=\"localhost\",  # ganti ke \"postgres\" jika notebook jalan dari container\n",
    "    port=5432\n",
    ")\n",
    "\n",
    "df = pd.read_sql_query(\"SELECT title, content FROM cleaned_news\", conn)\n",
    "conn.close()\n",
    "\n",
    "df.dropna(inplace=True)\n",
    "df.head()\n"
   ]
  },
  {
   "cell_type": "code",
   "execution_count": null,
   "id": "c5a727a1",
   "metadata": {
    "vscode": {
     "languageId": "plaintext"
    }
   },
   "outputs": [],
   "source": [
    "# Untuk contoh awal, label 1 = hoax, 0 = asli (secara manual/sintetik)\n",
    "# Kamu bisa ubah ini ke label dari dataset nyata nantinya\n",
    "df[\"label\"] = [1 if i % 2 == 0 else 0 for i in range(len(df))]  # alternasi\n"
   ]
  },
  {
   "cell_type": "code",
   "execution_count": null,
   "id": "a8e53dcb",
   "metadata": {
    "vscode": {
     "languageId": "plaintext"
    }
   },
   "outputs": [],
   "source": [
    "X = df[\"content\"]\n",
    "y = df[\"label\"]\n",
    "\n",
    "tfidf = TfidfVectorizer(max_features=3000)\n",
    "X_vec = tfidf.fit_transform(X)\n",
    "\n",
    "X_train, X_test, y_train, y_test = train_test_split(X_vec, y, test_size=0.2, random_state=42)\n",
    "\n",
    "model = LogisticRegression()\n",
    "model.fit(X_train, y_train)\n"
   ]
  },
  {
   "cell_type": "code",
   "execution_count": null,
   "id": "a2cc46d0",
   "metadata": {
    "vscode": {
     "languageId": "plaintext"
    }
   },
   "outputs": [],
   "source": [
    "y_pred = model.predict(X_test)\n",
    "print(classification_report(y_test, y_pred))\n"
   ]
  },
  {
   "cell_type": "code",
   "execution_count": null,
   "id": "bc5913f1",
   "metadata": {
    "vscode": {
     "languageId": "plaintext"
    }
   },
   "outputs": [],
   "source": [
    "joblib.dump(model, \"../models/fake_news_model.pkl\")\n",
    "joblib.dump(tfidf, \"../models/tfidf_vectorizer.pkl\")\n"
   ]
  }
 ],
 "metadata": {
  "language_info": {
   "name": "python"
  }
 },
 "nbformat": 4,
 "nbformat_minor": 5
}
